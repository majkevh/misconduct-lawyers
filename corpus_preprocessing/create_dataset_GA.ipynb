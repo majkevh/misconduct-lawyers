{
 "cells": [
  {
   "cell_type": "markdown",
   "metadata": {},
   "source": [
    "## Import libraries"
   ]
  },
  {
   "cell_type": "code",
   "execution_count": 1,
   "metadata": {},
   "outputs": [],
   "source": [
    "import numpy as np\n",
    "from pdf2image import convert_from_path\n",
    "from pytesseract import image_to_string\n",
    "import matplotlib.pyplot as plt\n",
    "import numpy as np\n",
    "import sys\n",
    "sys.path.append(\"../utils\")\n",
    "import utils as uti\n",
    "import pandas as pd\n",
    "import scipy\n",
    "import os\n",
    "from tqdm import tqdm"
   ]
  },
  {
   "cell_type": "markdown",
   "metadata": {},
   "source": [
    "## Create dataset from GA state raw data and save it as csv file"
   ]
  },
  {
   "cell_type": "code",
   "execution_count": null,
   "metadata": {},
   "outputs": [],
   "source": [
    "\n",
    "DATASET = \"GA\"\n",
    "directory_path = \"../data/raw/\"+DATASET\n",
    "print(directory_path)\n",
    "df = pd.DataFrame(columns=['Descriptions'])\n",
    "\n",
    "peaks_heights = list(np.arange(0.1,0.4,0.005))\n",
    "files = [file for file in os.listdir(directory_path) if file.endswith('.pdf')]\n",
    "for file in tqdm(files, desc=\"Processing PDF files\"):\n",
    "    pages = convert_from_path(directory_path+\"/\"+file, 200)\n",
    "    text = \"\"\n",
    "    for page in pages:\n",
    "        page_array = np.array(page)\n",
    "        img = uti.rgb_to_gray(page_array)\n",
    "        mean_img = (256-np.mean(img, axis=1))/256\n",
    "        opt_peaks = []\n",
    "        predist = int(0.01*len(mean_img))\n",
    "        for i in peaks_heights:\n",
    "            lines, _= scipy.signal.find_peaks(mean_img, height = i, distance=predist)\n",
    "            if len(lines)>=4:\n",
    "                dist=(lines-np.roll(lines,1))[1:]\n",
    "                opt_peaks.append(np.std(dist))\n",
    "            else:\n",
    "                opt_peaks.append(np.inf)\n",
    "\n",
    "        best_height = peaks_heights[opt_peaks.index(min(opt_peaks))]\n",
    "        descr_lines, _ = scipy.signal.find_peaks(mean_img, height=best_height, distance=predist)\n",
    "        if len(descr_lines)>1:\n",
    "            tol =  min((descr_lines - np.roll(descr_lines, 1))[1:])\n",
    "        else:\n",
    "            tol = 50\n",
    "        trim_img = page_array[max(descr_lines[0]-tol, 0): min(descr_lines[-1]+tol, len(mean_img)-1)]\n",
    "        text += image_to_string(trim_img, lang='eng')\n",
    "    df = pd.concat([df, pd.DataFrame({'Descriptions': [text]})], ignore_index=True)\n",
    "\n",
    "df.to_csv(\"../data/csv_files/\"+ DATASET+'_disciplinary_actions.csv', index=False)"
   ]
  }
 ],
 "metadata": {
  "kernelspec": {
   "display_name": "Python 3",
   "language": "python",
   "name": "python3"
  },
  "language_info": {
   "codemirror_mode": {
    "name": "ipython",
    "version": 3
   },
   "file_extension": ".py",
   "mimetype": "text/x-python",
   "name": "python",
   "nbconvert_exporter": "python",
   "pygments_lexer": "ipython3",
   "version": "3.9.4"
  }
 },
 "nbformat": 4,
 "nbformat_minor": 2
}
