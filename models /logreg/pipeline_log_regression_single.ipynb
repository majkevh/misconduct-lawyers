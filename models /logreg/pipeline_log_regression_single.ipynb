{
 "cells": [
  {
   "cell_type": "code",
   "execution_count": 1,
   "metadata": {},
   "outputs": [
    {
     "data": {
      "text/plain": [
       "True"
      ]
     },
     "execution_count": 1,
     "metadata": {},
     "output_type": "execute_result"
    }
   ],
   "source": [
    "import nltk\n",
    "import ssl\n",
    "\n",
    "try:\n",
    "    _create_unverified_https_context = ssl._create_unverified_context\n",
    "except AttributeError:\n",
    "    pass\n",
    "else:\n",
    "    ssl._create_default_https_context = _create_unverified_https_context\n",
    "\n",
    "nltk.download('punkt', quiet=True)\n",
    "nltk.download('stopwords', quiet=True)\n",
    "nltk.download('averaged_perceptron_tagger', quiet=True)\n",
    "nltk.download('wordnet', quiet=True)"
   ]
  },
  {
   "cell_type": "code",
   "execution_count": 2,
   "metadata": {},
   "outputs": [],
   "source": [
    "import pandas as pd\n",
    "import numpy as np\n",
    "import sys\n",
    "sys.path.append(\"../../\")\n",
    "import utils.utils as uti\n",
    "import matplotlib.pyplot as plt"
   ]
  },
  {
   "cell_type": "markdown",
   "metadata": {},
   "source": [
    "### Import data from WA"
   ]
  },
  {
   "cell_type": "code",
   "execution_count": 3,
   "metadata": {},
   "outputs": [
    {
     "name": "stdout",
     "output_type": "stream",
     "text": [
      "Percentage of samples kept: 69.48%\n"
     ]
    }
   ],
   "source": [
    "# Path to the uploaded CSV file and upload it\n",
    "from corpus_preprocessing.preprocessWA import remove_extra_rows_WA\n",
    "df_filtered_wa, conduct_cols  = remove_extra_rows_WA()\n",
    "df_filtered_wa['rule16'] = np.nan"
   ]
  },
  {
   "cell_type": "markdown",
   "metadata": {},
   "source": [
    "### Import data from NJ"
   ]
  },
  {
   "cell_type": "code",
   "execution_count": 4,
   "metadata": {},
   "outputs": [
    {
     "name": "stdout",
     "output_type": "stream",
     "text": [
      "Percentage of samples kept: 11.99%\n"
     ]
    }
   ],
   "source": [
    "from corpus_preprocessing.preprocessNJ import remove_extra_rows_NJ, extract_labels_rpc_NJ\n",
    "df_filtered_nj = remove_extra_rows_NJ()\n",
    "for i in range(len(df_filtered_wa.columns.values) - len(df_filtered_nj.columns.values)):\n",
    "    df_filtered_nj[str(i)+\"_empty\"] = np.nan\n",
    "df_filtered_nj.columns = df_filtered_wa.columns.values"
   ]
  },
  {
   "cell_type": "markdown",
   "metadata": {},
   "source": [
    "### Import data from GA"
   ]
  },
  {
   "cell_type": "code",
   "execution_count": 5,
   "metadata": {},
   "outputs": [
    {
     "name": "stdout",
     "output_type": "stream",
     "text": [
      "Percentage of rows kept: 57.32% 1042\n"
     ]
    }
   ],
   "source": [
    "from corpus_preprocessing.preprocessGA import remove_extra_rows_GA\n",
    "df_filtered_ga = remove_extra_rows_GA()\n",
    "for i in range(len(df_filtered_wa.columns.values) - len(df_filtered_ga.columns.values)):\n",
    "    df_filtered_ga[str(i)+\"_empty\"] = np.nan\n",
    "df_filtered_ga.columns = df_filtered_wa.columns.values"
   ]
  },
  {
   "cell_type": "markdown",
   "metadata": {},
   "source": [
    "### Import data from AZ"
   ]
  },
  {
   "cell_type": "code",
   "execution_count": 6,
   "metadata": {},
   "outputs": [
    {
     "name": "stdout",
     "output_type": "stream",
     "text": [
      "Percentage of rows kept: 96.77%\n"
     ]
    }
   ],
   "source": [
    "from corpus_preprocessing.preprocessAZ import preprocess_AZ\n",
    "df_filtered_az = preprocess_AZ()\n",
    "for i in range(len(df_filtered_wa.columns.values) - len(df_filtered_az.columns.values)):\n",
    "    df_filtered_az[str(i)+\"_empty\"] = np.nan\n",
    "df_filtered_az.columns = df_filtered_wa.columns.values"
   ]
  },
  {
   "cell_type": "markdown",
   "metadata": {},
   "source": [
    "### Import data from NC"
   ]
  },
  {
   "cell_type": "code",
   "execution_count": 7,
   "metadata": {},
   "outputs": [
    {
     "name": "stdout",
     "output_type": "stream",
     "text": [
      "Percentage of rows kept: 67.36% 1515\n"
     ]
    }
   ],
   "source": [
    "from corpus_preprocessing.preprocessNC import preprocess_NC\n",
    "df_filtered_nc = preprocess_NC()\n",
    "for i in range(len(df_filtered_wa.columns.values) - len(df_filtered_nc.columns.values)):\n",
    "    df_filtered_nc[str(i)+\"_empty\"] = np.nan\n",
    "df_filtered_nc.columns = df_filtered_wa.columns.values"
   ]
  },
  {
   "cell_type": "markdown",
   "metadata": {},
   "source": [
    "### Import data from MD"
   ]
  },
  {
   "cell_type": "code",
   "execution_count": 8,
   "metadata": {},
   "outputs": [
    {
     "name": "stdout",
     "output_type": "stream",
     "text": [
      "Percentage of rows kept: 10.95% 88\n"
     ]
    }
   ],
   "source": [
    "from corpus_preprocessing.preprocessMD import preprocess_MD\n",
    "df_filtered_md = preprocess_MD()\n",
    "for i in range(len(df_filtered_wa.columns.values) - len(df_filtered_md.columns.values)):\n",
    "    df_filtered_md[str(i)+\"_empty\"] = np.nan\n",
    "df_filtered_md.columns = df_filtered_wa.columns.values"
   ]
  },
  {
   "cell_type": "markdown",
   "metadata": {},
   "source": [
    "### Combine the data from the states into one DataFrame"
   ]
  },
  {
   "cell_type": "code",
   "execution_count": 9,
   "metadata": {},
   "outputs": [
    {
     "data": {
      "text/html": [
       "<div>\n",
       "<style scoped>\n",
       "    .dataframe tbody tr th:only-of-type {\n",
       "        vertical-align: middle;\n",
       "    }\n",
       "\n",
       "    .dataframe tbody tr th {\n",
       "        vertical-align: top;\n",
       "    }\n",
       "\n",
       "    .dataframe thead th {\n",
       "        text-align: right;\n",
       "    }\n",
       "</style>\n",
       "<table border=\"1\" class=\"dataframe\">\n",
       "  <thead>\n",
       "    <tr style=\"text-align: right;\">\n",
       "      <th></th>\n",
       "      <th>Description</th>\n",
       "      <th>rule1</th>\n",
       "      <th>rule2</th>\n",
       "      <th>rule3</th>\n",
       "      <th>rule4</th>\n",
       "      <th>rule5</th>\n",
       "      <th>rule6</th>\n",
       "      <th>rule7</th>\n",
       "      <th>rule8</th>\n",
       "      <th>rule9</th>\n",
       "      <th>rule10</th>\n",
       "      <th>rule11</th>\n",
       "      <th>rule12</th>\n",
       "      <th>rule13</th>\n",
       "      <th>rule14</th>\n",
       "      <th>rule15</th>\n",
       "      <th>rule16</th>\n",
       "    </tr>\n",
       "  </thead>\n",
       "  <tbody>\n",
       "    <tr>\n",
       "      <th>0</th>\n",
       "      <td>John A. Walsh (WSBA No. 20603, admitted 1991),...</td>\n",
       "      <td>3.4</td>\n",
       "      <td>8.4d</td>\n",
       "      <td>NaN</td>\n",
       "      <td>NaN</td>\n",
       "      <td>NaN</td>\n",
       "      <td>NaN</td>\n",
       "      <td>NaN</td>\n",
       "      <td>NaN</td>\n",
       "      <td>NaN</td>\n",
       "      <td>NaN</td>\n",
       "      <td>NaN</td>\n",
       "      <td>NaN</td>\n",
       "      <td>NaN</td>\n",
       "      <td>NaN</td>\n",
       "      <td>NaN</td>\n",
       "      <td>NaN</td>\n",
       "    </tr>\n",
       "    <tr>\n",
       "      <th>1</th>\n",
       "      <td>Louis A. Ferreira (WSBA No. 20646, admitted 19...</td>\n",
       "      <td>1.2</td>\n",
       "      <td>1.8</td>\n",
       "      <td>1.8</td>\n",
       "      <td>NaN</td>\n",
       "      <td>NaN</td>\n",
       "      <td>NaN</td>\n",
       "      <td>NaN</td>\n",
       "      <td>NaN</td>\n",
       "      <td>NaN</td>\n",
       "      <td>NaN</td>\n",
       "      <td>NaN</td>\n",
       "      <td>NaN</td>\n",
       "      <td>NaN</td>\n",
       "      <td>NaN</td>\n",
       "      <td>NaN</td>\n",
       "      <td>NaN</td>\n",
       "    </tr>\n",
       "    <tr>\n",
       "      <th>2</th>\n",
       "      <td>Roland O. Foster Balloun (WSBA No. 20884, admi...</td>\n",
       "      <td>1.1</td>\n",
       "      <td>1.14</td>\n",
       "      <td>1.15</td>\n",
       "      <td>1.8</td>\n",
       "      <td>1.8</td>\n",
       "      <td>3.3</td>\n",
       "      <td>3.4</td>\n",
       "      <td>4.4</td>\n",
       "      <td>8.4c</td>\n",
       "      <td>8.4d</td>\n",
       "      <td>8.4l</td>\n",
       "      <td>NaN</td>\n",
       "      <td>NaN</td>\n",
       "      <td>NaN</td>\n",
       "      <td>NaN</td>\n",
       "      <td>NaN</td>\n",
       "    </tr>\n",
       "    <tr>\n",
       "      <th>3</th>\n",
       "      <td>Thomas G. Batson (WSBA No. 20888, admitted 199...</td>\n",
       "      <td>1.14</td>\n",
       "      <td>8.4c</td>\n",
       "      <td>NaN</td>\n",
       "      <td>NaN</td>\n",
       "      <td>NaN</td>\n",
       "      <td>NaN</td>\n",
       "      <td>NaN</td>\n",
       "      <td>NaN</td>\n",
       "      <td>NaN</td>\n",
       "      <td>NaN</td>\n",
       "      <td>NaN</td>\n",
       "      <td>NaN</td>\n",
       "      <td>NaN</td>\n",
       "      <td>NaN</td>\n",
       "      <td>NaN</td>\n",
       "      <td>NaN</td>\n",
       "    </tr>\n",
       "    <tr>\n",
       "      <th>4</th>\n",
       "      <td>Kevin G. Healy (WSBA No. 16307, admitted 1986)...</td>\n",
       "      <td>1.8</td>\n",
       "      <td>1.8</td>\n",
       "      <td>8.4c</td>\n",
       "      <td>NaN</td>\n",
       "      <td>NaN</td>\n",
       "      <td>NaN</td>\n",
       "      <td>NaN</td>\n",
       "      <td>NaN</td>\n",
       "      <td>NaN</td>\n",
       "      <td>NaN</td>\n",
       "      <td>NaN</td>\n",
       "      <td>NaN</td>\n",
       "      <td>NaN</td>\n",
       "      <td>NaN</td>\n",
       "      <td>NaN</td>\n",
       "      <td>NaN</td>\n",
       "    </tr>\n",
       "    <tr>\n",
       "      <th>...</th>\n",
       "      <td>...</td>\n",
       "      <td>...</td>\n",
       "      <td>...</td>\n",
       "      <td>...</td>\n",
       "      <td>...</td>\n",
       "      <td>...</td>\n",
       "      <td>...</td>\n",
       "      <td>...</td>\n",
       "      <td>...</td>\n",
       "      <td>...</td>\n",
       "      <td>...</td>\n",
       "      <td>...</td>\n",
       "      <td>...</td>\n",
       "      <td>...</td>\n",
       "      <td>...</td>\n",
       "      <td>...</td>\n",
       "      <td>...</td>\n",
       "    </tr>\n",
       "    <tr>\n",
       "      <th>4550</th>\n",
       "      <td>july 21, 2009 by the court of appeals based on...</td>\n",
       "      <td>1.1</td>\n",
       "      <td>1.15</td>\n",
       "      <td>5.1</td>\n",
       "      <td>5.3</td>\n",
       "      <td>8.4</td>\n",
       "      <td>None</td>\n",
       "      <td>None</td>\n",
       "      <td>None</td>\n",
       "      <td>None</td>\n",
       "      <td>None</td>\n",
       "      <td>NaN</td>\n",
       "      <td>NaN</td>\n",
       "      <td>NaN</td>\n",
       "      <td>NaN</td>\n",
       "      <td>NaN</td>\n",
       "      <td>NaN</td>\n",
       "    </tr>\n",
       "    <tr>\n",
       "      <th>4551</th>\n",
       "      <td>the court of appeals on april 28, 2009 for lac...</td>\n",
       "      <td>1.3</td>\n",
       "      <td>3.2</td>\n",
       "      <td>None</td>\n",
       "      <td>None</td>\n",
       "      <td>None</td>\n",
       "      <td>None</td>\n",
       "      <td>None</td>\n",
       "      <td>None</td>\n",
       "      <td>None</td>\n",
       "      <td>None</td>\n",
       "      <td>NaN</td>\n",
       "      <td>NaN</td>\n",
       "      <td>NaN</td>\n",
       "      <td>NaN</td>\n",
       "      <td>NaN</td>\n",
       "      <td>NaN</td>\n",
       "    </tr>\n",
       "    <tr>\n",
       "      <th>4552</th>\n",
       "      <td>for failure to appear at his client’s hearing....</td>\n",
       "      <td>1.3</td>\n",
       "      <td>8.4</td>\n",
       "      <td>None</td>\n",
       "      <td>None</td>\n",
       "      <td>None</td>\n",
       "      <td>None</td>\n",
       "      <td>None</td>\n",
       "      <td>None</td>\n",
       "      <td>None</td>\n",
       "      <td>None</td>\n",
       "      <td>NaN</td>\n",
       "      <td>NaN</td>\n",
       "      <td>NaN</td>\n",
       "      <td>NaN</td>\n",
       "      <td>NaN</td>\n",
       "      <td>NaN</td>\n",
       "    </tr>\n",
       "    <tr>\n",
       "      <th>4553</th>\n",
       "      <td>july 21, 2009 by the court of appeals based on...</td>\n",
       "      <td>1.1</td>\n",
       "      <td>1.15</td>\n",
       "      <td>8.4</td>\n",
       "      <td>None</td>\n",
       "      <td>None</td>\n",
       "      <td>None</td>\n",
       "      <td>None</td>\n",
       "      <td>None</td>\n",
       "      <td>None</td>\n",
       "      <td>None</td>\n",
       "      <td>NaN</td>\n",
       "      <td>NaN</td>\n",
       "      <td>NaN</td>\n",
       "      <td>NaN</td>\n",
       "      <td>NaN</td>\n",
       "      <td>NaN</td>\n",
       "    </tr>\n",
       "    <tr>\n",
       "      <th>4554</th>\n",
       "      <td>for filing two motions to recuse the judge in ...</td>\n",
       "      <td>3.1</td>\n",
       "      <td>4.4</td>\n",
       "      <td>8.4</td>\n",
       "      <td>None</td>\n",
       "      <td>None</td>\n",
       "      <td>None</td>\n",
       "      <td>None</td>\n",
       "      <td>None</td>\n",
       "      <td>None</td>\n",
       "      <td>None</td>\n",
       "      <td>NaN</td>\n",
       "      <td>NaN</td>\n",
       "      <td>NaN</td>\n",
       "      <td>NaN</td>\n",
       "      <td>NaN</td>\n",
       "      <td>NaN</td>\n",
       "    </tr>\n",
       "  </tbody>\n",
       "</table>\n",
       "<p>4555 rows × 17 columns</p>\n",
       "</div>"
      ],
      "text/plain": [
       "                                            Description rule1 rule2 rule3  \\\n",
       "0     John A. Walsh (WSBA No. 20603, admitted 1991),...   3.4  8.4d   NaN   \n",
       "1     Louis A. Ferreira (WSBA No. 20646, admitted 19...   1.2   1.8   1.8   \n",
       "2     Roland O. Foster Balloun (WSBA No. 20884, admi...   1.1  1.14  1.15   \n",
       "3     Thomas G. Batson (WSBA No. 20888, admitted 199...  1.14  8.4c   NaN   \n",
       "4     Kevin G. Healy (WSBA No. 16307, admitted 1986)...   1.8   1.8  8.4c   \n",
       "...                                                 ...   ...   ...   ...   \n",
       "4550  july 21, 2009 by the court of appeals based on...   1.1  1.15   5.1   \n",
       "4551  the court of appeals on april 28, 2009 for lac...   1.3   3.2  None   \n",
       "4552  for failure to appear at his client’s hearing....   1.3   8.4  None   \n",
       "4553  july 21, 2009 by the court of appeals based on...   1.1  1.15   8.4   \n",
       "4554  for filing two motions to recuse the judge in ...   3.1   4.4   8.4   \n",
       "\n",
       "     rule4 rule5 rule6 rule7 rule8 rule9 rule10 rule11 rule12 rule13 rule14  \\\n",
       "0      NaN   NaN   NaN   NaN   NaN   NaN    NaN    NaN    NaN    NaN    NaN   \n",
       "1      NaN   NaN   NaN   NaN   NaN   NaN    NaN    NaN    NaN    NaN    NaN   \n",
       "2      1.8   1.8   3.3   3.4   4.4  8.4c   8.4d   8.4l    NaN    NaN    NaN   \n",
       "3      NaN   NaN   NaN   NaN   NaN   NaN    NaN    NaN    NaN    NaN    NaN   \n",
       "4      NaN   NaN   NaN   NaN   NaN   NaN    NaN    NaN    NaN    NaN    NaN   \n",
       "...    ...   ...   ...   ...   ...   ...    ...    ...    ...    ...    ...   \n",
       "4550   5.3   8.4  None  None  None  None   None    NaN    NaN    NaN    NaN   \n",
       "4551  None  None  None  None  None  None   None    NaN    NaN    NaN    NaN   \n",
       "4552  None  None  None  None  None  None   None    NaN    NaN    NaN    NaN   \n",
       "4553  None  None  None  None  None  None   None    NaN    NaN    NaN    NaN   \n",
       "4554  None  None  None  None  None  None   None    NaN    NaN    NaN    NaN   \n",
       "\n",
       "     rule15 rule16  \n",
       "0       NaN    NaN  \n",
       "1       NaN    NaN  \n",
       "2       NaN    NaN  \n",
       "3       NaN    NaN  \n",
       "4       NaN    NaN  \n",
       "...     ...    ...  \n",
       "4550    NaN    NaN  \n",
       "4551    NaN    NaN  \n",
       "4552    NaN    NaN  \n",
       "4553    NaN    NaN  \n",
       "4554    NaN    NaN  \n",
       "\n",
       "[4555 rows x 17 columns]"
      ]
     },
     "execution_count": 9,
     "metadata": {},
     "output_type": "execute_result"
    }
   ],
   "source": [
    "df_all_states = pd.concat([df_filtered_wa.reset_index(drop=True), df_filtered_nj,\n",
    "df_filtered_ga ,df_filtered_az, df_filtered_nc, df_filtered_md], axis=0, ignore_index=True)\n",
    "df_all_states"
   ]
  },
  {
   "cell_type": "markdown",
   "metadata": {},
   "source": [
    "### Manually group the labels into 10 bins"
   ]
  },
  {
   "cell_type": "code",
   "execution_count": 10,
   "metadata": {},
   "outputs": [],
   "source": [
    "dict_unique_conducts = {\"1.1\":1, \"1.3\":1, \n",
    "        \"1.15\":2, \"1.15a\":2, \"1.15 (a)\":2, \"1.15A\":2, \"1.15 (A)\":2,\"1.15b\":2,\"1.15 (b)\":2, \"1.15B\":2, \"1.15 (B)\":2,\n",
    "        \"1.4\":3,\n",
    "        \"1.7\":4, \"1.8\":4, \"1.10\":4, \"1.11\":4, \"1.16\":4, \"1.17\":4,\n",
    "        \"1.2\":5, \"1.5\":5, \"1.6\":5, '1.9':5, \"1.12\":5, '1.13':5, '1.14':5,\n",
    "        \"2.1\":6, \"2.2\":6, \"2.3\":6, \"2.4\":6, \"3.1\":6, \"3.2\":6, \"3.3\":6, \"3.4\":6, \"3.5\":6, \"3.6\":6, \"3.7\":6, \"3.8\":6, \"3.9\":6,\n",
    "        \"4.1\":7, \"4.2\":7, \"4.2.\":7, \"4.3\":7, \"4.4\":7, \"5.1\":7, \"5.2\":7, \"5.3\":7, \"5.4\":7, \"5.5\":7, \"5.6\":7, \"5.7\":7,\"5.8\":7,\n",
    "         \"6.1\":7, \"6.2\":7, \"6.3\":7, \"6.4\":7, \"6.5\":7, \"7.1\":7, \"7.2\":7, \"7.3\":7, \"7.4\":7, \"7.5\":7,\"7.6\":7,\n",
    "        \"8.4b\":8, '8.4 (b)':8,\n",
    "        \"8.4c\":9, '8.4 (c)':9,\n",
    "        '8.1':10, '8.2':10, '8.4':10, '8.4a':10, '8.4 (a)':10, '8.4d':10, '8.4 (d)':10, '8.4e':10, '8.4 (e)':10, '8.4h':10, \n",
    "        '8.4 (h)':10, '8.4i':10, '8.4 (i)':10, '8.4j':10, '8.4 (j)':10, '8.4k':10, '8.4 (k)':10, '8.4l':10, '8.4 (l)':10, '8.4m':10, '8.4 (m)':10,\n",
    "         '8.4n':10, '8.4 (n)':10, '8.5':10}"
   ]
  },
  {
   "cell_type": "markdown",
   "metadata": {},
   "source": [
    "### Frequency labels histogram"
   ]
  },
  {
   "cell_type": "code",
   "execution_count": 11,
   "metadata": {},
   "outputs": [
    {
     "data": {
      "text/plain": [
       "Text(0.5, 0, 'Frequency of ABA rule')"
      ]
     },
     "execution_count": 11,
     "metadata": {},
     "output_type": "execute_result"
    },
    {
     "data": {
      "image/png": "[encoded data removed]",
      "text/plain": [
       "<Figure size 600x400 with 1 Axes>"
      ]
     },
     "metadata": {},
     "output_type": "display_data"
    }
   ],
   "source": [
    "freq_label = []\n",
    "for j, key in enumerate(dict_unique_conducts.keys()):\n",
    "        # index with(out) label for test data\n",
    "        mask_test = df_all_states.drop(['Description'], axis = 1).isin([key])\n",
    "        test_with_label = df_all_states[mask_test].dropna(how='all').index.values.tolist()\n",
    "\n",
    "        freq_label.append(len(test_with_label)/(len(df_all_states)))\n",
    "\n",
    "# Number of bins\n",
    "num_bins = 20\n",
    "\n",
    "# Create histogram\n",
    "plt.figure(figsize=(6, 4))\n",
    "n, bins, patches = plt.hist(freq_label, bins=num_bins, edgecolor='black', alpha=0.7)\n",
    "\n",
    "# Customize colors\n",
    "colors = plt.cm.viridis(np.linspace(0, 1, len(patches)))\n",
    "for patch, color in zip(patches, colors):\n",
    "    patch.set_facecolor(color)\n",
    "\n",
    "bin_midpoints = 0.5 * (bins[:-1] + bins[1:])\n",
    "bin_midpoints_formatted = [f'{x:.2f}' for x in bin_midpoints]\n",
    "# Select every second bin for ticks\n",
    "ticks_indices = list(range(0, len(bin_midpoints), 2))  # Using list indexing\n",
    "\n",
    "# Extracting every second bin midpoints and their labels\n",
    "selected_bin_midpoints = [bin_midpoints[i] for i in ticks_indices]\n",
    "selected_bin_labels = [bin_midpoints_formatted[i] for i in ticks_indices]\n",
    "\n",
    "# Setting xticks with selected midpoints and labels\n",
    "plt.xticks(selected_bin_midpoints, selected_bin_labels, rotation=0)\n",
    "\n",
    "# Adding labels and title\n",
    "plt.ylabel('Number of ABA rules')\n",
    "plt.xlabel('Frequency of ABA rule')"
   ]
  },
  {
   "cell_type": "code",
   "execution_count": 12,
   "metadata": {},
   "outputs": [],
   "source": [
    "# from clusters_to_bins import clusters_to_bins\n",
    "# dict_unique_conducts = clusters_to_bins(\"cluster_sums.csv\")"
   ]
  },
  {
   "cell_type": "markdown",
   "metadata": {},
   "source": [
    "### Replace labels by corresponding bin identificators"
   ]
  },
  {
   "cell_type": "code",
   "execution_count": 13,
   "metadata": {},
   "outputs": [
    {
     "name": "stderr",
     "output_type": "stream",
     "text": [
      "/var/folders/sv/qn9ckc8d6bs84hdk8qfbjcgh0000gn/T/ipykernel_83881/3471764644.py:2: FutureWarning: Downcasting behavior in `replace` is deprecated and will be removed in a future version. To retain the old behavior, explicitly call `result.infer_objects(copy=False)`. To opt-in to the future behavior, set `pd.set_option('future.no_silent_downcasting', True)`\n",
      "  df_all_states = df_all_states.replace(dict_unique_conducts)\n"
     ]
    },
    {
     "data": {
      "text/html": [
       "<div>\n",
       "<style scoped>\n",
       "    .dataframe tbody tr th:only-of-type {\n",
       "        vertical-align: middle;\n",
       "    }\n",
       "\n",
       "    .dataframe tbody tr th {\n",
       "        vertical-align: top;\n",
       "    }\n",
       "\n",
       "    .dataframe thead th {\n",
       "        text-align: right;\n",
       "    }\n",
       "</style>\n",
       "<table border=\"1\" class=\"dataframe\">\n",
       "  <thead>\n",
       "    <tr style=\"text-align: right;\">\n",
       "      <th></th>\n",
       "      <th>Description</th>\n",
       "      <th>rule1</th>\n",
       "      <th>rule2</th>\n",
       "      <th>rule3</th>\n",
       "      <th>rule4</th>\n",
       "      <th>rule5</th>\n",
       "      <th>rule6</th>\n",
       "      <th>rule7</th>\n",
       "      <th>rule8</th>\n",
       "      <th>rule9</th>\n",
       "      <th>rule10</th>\n",
       "      <th>rule11</th>\n",
       "      <th>rule12</th>\n",
       "      <th>rule13</th>\n",
       "      <th>rule14</th>\n",
       "      <th>rule15</th>\n",
       "      <th>rule16</th>\n",
       "    </tr>\n",
       "  </thead>\n",
       "  <tbody>\n",
       "    <tr>\n",
       "      <th>0</th>\n",
       "      <td>John A. Walsh (WSBA No. 20603, admitted 1991),...</td>\n",
       "      <td>6.0</td>\n",
       "      <td>10.0</td>\n",
       "      <td>NaN</td>\n",
       "      <td>NaN</td>\n",
       "      <td>NaN</td>\n",
       "      <td>NaN</td>\n",
       "      <td>NaN</td>\n",
       "      <td>NaN</td>\n",
       "      <td>NaN</td>\n",
       "      <td>NaN</td>\n",
       "      <td>NaN</td>\n",
       "      <td>NaN</td>\n",
       "      <td>NaN</td>\n",
       "      <td>NaN</td>\n",
       "      <td>NaN</td>\n",
       "      <td>NaN</td>\n",
       "    </tr>\n",
       "    <tr>\n",
       "      <th>1</th>\n",
       "      <td>Louis A. Ferreira (WSBA No. 20646, admitted 19...</td>\n",
       "      <td>5.0</td>\n",
       "      <td>4.0</td>\n",
       "      <td>4.0</td>\n",
       "      <td>NaN</td>\n",
       "      <td>NaN</td>\n",
       "      <td>NaN</td>\n",
       "      <td>NaN</td>\n",
       "      <td>NaN</td>\n",
       "      <td>NaN</td>\n",
       "      <td>NaN</td>\n",
       "      <td>NaN</td>\n",
       "      <td>NaN</td>\n",
       "      <td>NaN</td>\n",
       "      <td>NaN</td>\n",
       "      <td>NaN</td>\n",
       "      <td>NaN</td>\n",
       "    </tr>\n",
       "    <tr>\n",
       "      <th>2</th>\n",
       "      <td>Roland O. Foster Balloun (WSBA No. 20884, admi...</td>\n",
       "      <td>1.0</td>\n",
       "      <td>5.0</td>\n",
       "      <td>2.0</td>\n",
       "      <td>4.0</td>\n",
       "      <td>4.0</td>\n",
       "      <td>6.0</td>\n",
       "      <td>6.0</td>\n",
       "      <td>7.0</td>\n",
       "      <td>9.0</td>\n",
       "      <td>10.0</td>\n",
       "      <td>10.0</td>\n",
       "      <td>NaN</td>\n",
       "      <td>NaN</td>\n",
       "      <td>NaN</td>\n",
       "      <td>NaN</td>\n",
       "      <td>NaN</td>\n",
       "    </tr>\n",
       "    <tr>\n",
       "      <th>3</th>\n",
       "      <td>Thomas G. Batson (WSBA No. 20888, admitted 199...</td>\n",
       "      <td>5.0</td>\n",
       "      <td>9.0</td>\n",
       "      <td>NaN</td>\n",
       "      <td>NaN</td>\n",
       "      <td>NaN</td>\n",
       "      <td>NaN</td>\n",
       "      <td>NaN</td>\n",
       "      <td>NaN</td>\n",
       "      <td>NaN</td>\n",
       "      <td>NaN</td>\n",
       "      <td>NaN</td>\n",
       "      <td>NaN</td>\n",
       "      <td>NaN</td>\n",
       "      <td>NaN</td>\n",
       "      <td>NaN</td>\n",
       "      <td>NaN</td>\n",
       "    </tr>\n",
       "    <tr>\n",
       "      <th>4</th>\n",
       "      <td>Kevin G. Healy (WSBA No. 16307, admitted 1986)...</td>\n",
       "      <td>4.0</td>\n",
       "      <td>4.0</td>\n",
       "      <td>9.0</td>\n",
       "      <td>NaN</td>\n",
       "      <td>NaN</td>\n",
       "      <td>NaN</td>\n",
       "      <td>NaN</td>\n",
       "      <td>NaN</td>\n",
       "      <td>NaN</td>\n",
       "      <td>NaN</td>\n",
       "      <td>NaN</td>\n",
       "      <td>NaN</td>\n",
       "      <td>NaN</td>\n",
       "      <td>NaN</td>\n",
       "      <td>NaN</td>\n",
       "      <td>NaN</td>\n",
       "    </tr>\n",
       "    <tr>\n",
       "      <th>...</th>\n",
       "      <td>...</td>\n",
       "      <td>...</td>\n",
       "      <td>...</td>\n",
       "      <td>...</td>\n",
       "      <td>...</td>\n",
       "      <td>...</td>\n",
       "      <td>...</td>\n",
       "      <td>...</td>\n",
       "      <td>...</td>\n",
       "      <td>...</td>\n",
       "      <td>...</td>\n",
       "      <td>...</td>\n",
       "      <td>...</td>\n",
       "      <td>...</td>\n",
       "      <td>...</td>\n",
       "      <td>...</td>\n",
       "      <td>...</td>\n",
       "    </tr>\n",
       "    <tr>\n",
       "      <th>4550</th>\n",
       "      <td>july 21, 2009 by the court of appeals based on...</td>\n",
       "      <td>1.0</td>\n",
       "      <td>2.0</td>\n",
       "      <td>7.0</td>\n",
       "      <td>7.0</td>\n",
       "      <td>10.0</td>\n",
       "      <td>NaN</td>\n",
       "      <td>NaN</td>\n",
       "      <td>NaN</td>\n",
       "      <td>NaN</td>\n",
       "      <td>NaN</td>\n",
       "      <td>NaN</td>\n",
       "      <td>NaN</td>\n",
       "      <td>NaN</td>\n",
       "      <td>NaN</td>\n",
       "      <td>NaN</td>\n",
       "      <td>NaN</td>\n",
       "    </tr>\n",
       "    <tr>\n",
       "      <th>4551</th>\n",
       "      <td>the court of appeals on april 28, 2009 for lac...</td>\n",
       "      <td>1.0</td>\n",
       "      <td>6.0</td>\n",
       "      <td>NaN</td>\n",
       "      <td>NaN</td>\n",
       "      <td>NaN</td>\n",
       "      <td>NaN</td>\n",
       "      <td>NaN</td>\n",
       "      <td>NaN</td>\n",
       "      <td>NaN</td>\n",
       "      <td>NaN</td>\n",
       "      <td>NaN</td>\n",
       "      <td>NaN</td>\n",
       "      <td>NaN</td>\n",
       "      <td>NaN</td>\n",
       "      <td>NaN</td>\n",
       "      <td>NaN</td>\n",
       "    </tr>\n",
       "    <tr>\n",
       "      <th>4552</th>\n",
       "      <td>for failure to appear at his client’s hearing....</td>\n",
       "      <td>1.0</td>\n",
       "      <td>10.0</td>\n",
       "      <td>NaN</td>\n",
       "      <td>NaN</td>\n",
       "      <td>NaN</td>\n",
       "      <td>NaN</td>\n",
       "      <td>NaN</td>\n",
       "      <td>NaN</td>\n",
       "      <td>NaN</td>\n",
       "      <td>NaN</td>\n",
       "      <td>NaN</td>\n",
       "      <td>NaN</td>\n",
       "      <td>NaN</td>\n",
       "      <td>NaN</td>\n",
       "      <td>NaN</td>\n",
       "      <td>NaN</td>\n",
       "    </tr>\n",
       "    <tr>\n",
       "      <th>4553</th>\n",
       "      <td>july 21, 2009 by the court of appeals based on...</td>\n",
       "      <td>1.0</td>\n",
       "      <td>2.0</td>\n",
       "      <td>10.0</td>\n",
       "      <td>NaN</td>\n",
       "      <td>NaN</td>\n",
       "      <td>NaN</td>\n",
       "      <td>NaN</td>\n",
       "      <td>NaN</td>\n",
       "      <td>NaN</td>\n",
       "      <td>NaN</td>\n",
       "      <td>NaN</td>\n",
       "      <td>NaN</td>\n",
       "      <td>NaN</td>\n",
       "      <td>NaN</td>\n",
       "      <td>NaN</td>\n",
       "      <td>NaN</td>\n",
       "    </tr>\n",
       "    <tr>\n",
       "      <th>4554</th>\n",
       "      <td>for filing two motions to recuse the judge in ...</td>\n",
       "      <td>6.0</td>\n",
       "      <td>7.0</td>\n",
       "      <td>10.0</td>\n",
       "      <td>NaN</td>\n",
       "      <td>NaN</td>\n",
       "      <td>NaN</td>\n",
       "      <td>NaN</td>\n",
       "      <td>NaN</td>\n",
       "      <td>NaN</td>\n",
       "      <td>NaN</td>\n",
       "      <td>NaN</td>\n",
       "      <td>NaN</td>\n",
       "      <td>NaN</td>\n",
       "      <td>NaN</td>\n",
       "      <td>NaN</td>\n",
       "      <td>NaN</td>\n",
       "    </tr>\n",
       "  </tbody>\n",
       "</table>\n",
       "<p>4555 rows × 17 columns</p>\n",
       "</div>"
      ],
      "text/plain": [
       "                                            Description  rule1  rule2  rule3  \\\n",
       "0     John A. Walsh (WSBA No. 20603, admitted 1991),...    6.0   10.0    NaN   \n",
       "1     Louis A. Ferreira (WSBA No. 20646, admitted 19...    5.0    4.0    4.0   \n",
       "2     Roland O. Foster Balloun (WSBA No. 20884, admi...    1.0    5.0    2.0   \n",
       "3     Thomas G. Batson (WSBA No. 20888, admitted 199...    5.0    9.0    NaN   \n",
       "4     Kevin G. Healy (WSBA No. 16307, admitted 1986)...    4.0    4.0    9.0   \n",
       "...                                                 ...    ...    ...    ...   \n",
       "4550  july 21, 2009 by the court of appeals based on...    1.0    2.0    7.0   \n",
       "4551  the court of appeals on april 28, 2009 for lac...    1.0    6.0    NaN   \n",
       "4552  for failure to appear at his client’s hearing....    1.0   10.0    NaN   \n",
       "4553  july 21, 2009 by the court of appeals based on...    1.0    2.0   10.0   \n",
       "4554  for filing two motions to recuse the judge in ...    6.0    7.0   10.0   \n",
       "\n",
       "      rule4  rule5  rule6  rule7  rule8  rule9  rule10  rule11  rule12  \\\n",
       "0       NaN    NaN    NaN    NaN    NaN    NaN     NaN     NaN     NaN   \n",
       "1       NaN    NaN    NaN    NaN    NaN    NaN     NaN     NaN     NaN   \n",
       "2       4.0    4.0    6.0    6.0    7.0    9.0    10.0    10.0     NaN   \n",
       "3       NaN    NaN    NaN    NaN    NaN    NaN     NaN     NaN     NaN   \n",
       "4       NaN    NaN    NaN    NaN    NaN    NaN     NaN     NaN     NaN   \n",
       "...     ...    ...    ...    ...    ...    ...     ...     ...     ...   \n",
       "4550    7.0   10.0    NaN    NaN    NaN    NaN     NaN     NaN     NaN   \n",
       "4551    NaN    NaN    NaN    NaN    NaN    NaN     NaN     NaN     NaN   \n",
       "4552    NaN    NaN    NaN    NaN    NaN    NaN     NaN     NaN     NaN   \n",
       "4553    NaN    NaN    NaN    NaN    NaN    NaN     NaN     NaN     NaN   \n",
       "4554    NaN    NaN    NaN    NaN    NaN    NaN     NaN     NaN     NaN   \n",
       "\n",
       "      rule13  rule14  rule15  rule16  \n",
       "0        NaN     NaN     NaN     NaN  \n",
       "1        NaN     NaN     NaN     NaN  \n",
       "2        NaN     NaN     NaN     NaN  \n",
       "3        NaN     NaN     NaN     NaN  \n",
       "4        NaN     NaN     NaN     NaN  \n",
       "...      ...     ...     ...     ...  \n",
       "4550     NaN     NaN     NaN     NaN  \n",
       "4551     NaN     NaN     NaN     NaN  \n",
       "4552     NaN     NaN     NaN     NaN  \n",
       "4553     NaN     NaN     NaN     NaN  \n",
       "4554     NaN     NaN     NaN     NaN  \n",
       "\n",
       "[4555 rows x 17 columns]"
      ]
     },
     "execution_count": 13,
     "metadata": {},
     "output_type": "execute_result"
    }
   ],
   "source": [
    "unique_bins = list(set(dict_unique_conducts.values()))\n",
    "df_all_states = df_all_states.replace(dict_unique_conducts)\n",
    "df_all_states"
   ]
  },
  {
   "cell_type": "markdown",
   "metadata": {},
   "source": [
    "### Frequency bins histogram"
   ]
  },
  {
   "cell_type": "code",
   "execution_count": 14,
   "metadata": {},
   "outputs": [
    {
     "data": {
      "image/png": "[encoded data removed]",
      "text/plain": [
       "<Figure size 600x400 with 1 Axes>"
      ]
     },
     "metadata": {},
     "output_type": "display_data"
    }
   ],
   "source": [
    "freq_bins = []\n",
    "for j, key in enumerate(unique_bins):\n",
    "        # index with(out) label for test data\n",
    "        mask_test = df_all_states.drop(['Description'], axis = 1).isin([key])\n",
    "        test_with_label = df_all_states[mask_test].dropna(how='all').index.values.tolist()\n",
    "\n",
    "        freq_bins.append(len(test_with_label)/(len(df_all_states)))\n",
    "\n",
    "import matplotlib.cm as cm\n",
    "\n",
    "fig, ax = plt.subplots(figsize=(6, 4))\n",
    "\n",
    "# Create bar plot\n",
    "colors = cm.coolwarm((np.array(freq_bins) - min(freq_bins)) / (max(freq_bins) - min(freq_bins)))\n",
    "bars = ax.bar(unique_bins, freq_bins, color=colors, edgecolor='black')\n",
    "\n",
    "# Add labels and title\n",
    "ax.set_xlabel('Bin identifier', fontsize=12)\n",
    "ax.set_ylabel('Bin frequency', fontsize=12)\n",
    "\n",
    "# Add gridlines\n",
    "\n",
    "\n",
    "# Add data labels\n",
    "for bar in bars:\n",
    "    yval = bar.get_height()\n",
    "    ax.text(bar.get_x() + bar.get_width()/2, yval, round(yval, 2), ha='center', va='bottom', fontsize=10)\n",
    "\n",
    "ax.set_xticks(np.arange(len(unique_bins))+1) \n",
    "ax.set_xticklabels(unique_bins)\n",
    "# Show plot\n",
    "plt.tight_layout()\n",
    "plt.show()"
   ]
  },
  {
   "cell_type": "markdown",
   "metadata": {},
   "source": [
    "### Preprocess Descriptions"
   ]
  },
  {
   "cell_type": "code",
   "execution_count": 15,
   "metadata": {},
   "outputs": [
    {
     "data": {
      "text/plain": [
       "0       john walsh admit seattle order censure pursuan...\n",
       "1       louis ferreira admit vancouver receive censure...\n",
       "2       roland foster balloun admit disbar follow hear...\n",
       "3       thomas batson admit seattle disbar order supre...\n",
       "4       kevin healy admit seattle resign lieu disbarme...\n",
       "                              ...                        \n",
       "4550    july court appeal base misconduct management c...\n",
       "4551    court appeal april lack diligence failure expe...\n",
       "4552    failure appear client hearing order appear jud...\n",
       "4553    july court appeal base misconduct settlement a...\n",
       "4554    filing two motion recuse judge federal lawsuit...\n",
       "Name: Description, Length: 4555, dtype: object"
      ]
     },
     "execution_count": 15,
     "metadata": {},
     "output_type": "execute_result"
    }
   ],
   "source": [
    "# Preprocess data by converting text to lowercase, removing non-word characters and numbers, \n",
    "# excluding the specific word 'wsba', exclude single characters, tokenizing, removing stopwords, and applying lemmatization or stemming if method = \"stemming\"\n",
    "\n",
    "preprocessor = uti.TextPreprocessor(method='lemmatization')\n",
    "preprocessed_descriptions = df_all_states['Description'].apply(preprocessor.preprocess)\n",
    "preprocessed_descriptions\n"
   ]
  },
  {
   "cell_type": "markdown",
   "metadata": {},
   "source": [
    "### Classification using logistic regression"
   ]
  },
  {
   "cell_type": "code",
   "execution_count": 16,
   "metadata": {},
   "outputs": [],
   "source": [
    "from sklearn.model_selection import train_test_split\n",
    "from sklearn.feature_extraction.text import TfidfVectorizer\n",
    "from sklearn.linear_model import LogisticRegression\n"
   ]
  },
  {
   "cell_type": "code",
   "execution_count": 17,
   "metadata": {},
   "outputs": [],
   "source": [
    "scores = np.zeros([len(unique_bins)])\n",
    "\n",
    "for j, label in enumerate(unique_bins):\n",
    "    # index with(out) label for test data\n",
    "    mask_test = df_all_states[conduct_cols].isin([label])\n",
    "    with_label = df_all_states[mask_test].dropna(how='all').index.values.tolist()\n",
    "    without_label = np.setdiff1d(np.array(preprocessed_descriptions.index),np.array(with_label))\n",
    "\n",
    "    y = pd.DataFrame(np.append(np.ones(len(with_label)), np.zeros(len(without_label))),index = np.append(with_label, without_label))\n",
    "    X_train, X_test, y_train, y_test = train_test_split(preprocessed_descriptions, y, test_size=0.2, random_state=42)\n",
    "\n",
    "    tfidf_vectorizer = TfidfVectorizer()\n",
    "    tfidf_train_vectors = tfidf_vectorizer.fit_transform(X_train)\n",
    "    tfidf_test_vectors = tfidf_vectorizer.transform(X_test)\n",
    "\n",
    "        # run logistic regression on train data\n",
    "    logreg=LogisticRegression()\n",
    "    logreg.fit(tfidf_train_vectors, np.ravel(y_train.values))\n",
    "\n",
    "        # estimate the accuracy of the model\n",
    "    scores[j] = logreg.score(tfidf_test_vectors, y_test)"
   ]
  },
  {
   "cell_type": "markdown",
   "metadata": {},
   "source": [
    "### Accuracy estimation of the log regression model"
   ]
  },
  {
   "cell_type": "code",
   "execution_count": 18,
   "metadata": {},
   "outputs": [
    {
     "data": {
      "image/png": "[encoded data removed]",
      "text/plain": [
       "<Figure size 600x400 with 1 Axes>"
      ]
     },
     "metadata": {},
     "output_type": "display_data"
    }
   ],
   "source": [
    "# Create a new figure with two subplots (side by side) including the exact frequency labels on top\n",
    "import matplotlib.cm as cm\n",
    "fig, ax = plt.subplots(figsize=(6, 4))\n",
    "\n",
    "# Create bar plot\n",
    "colors = cm.coolwarm((np.array(scores) - min(scores)) / (max(scores) - min(scores)))\n",
    "bars = ax.bar(unique_bins, scores, color=colors, edgecolor='black')\n",
    "\n",
    "# Add labels and title\n",
    "ax.set_xlabel('Bin identifier', fontsize=12)\n",
    "ax.set_ylabel('Testing accuracy', fontsize=12)\n",
    "\n",
    "# Add gridlines\n",
    "\n",
    "\n",
    "# Add data labels\n",
    "for bar in bars:\n",
    "    yval = bar.get_height()\n",
    "    ax.text(bar.get_x() + bar.get_width()/2, yval, round(yval, 2), ha='center', va='bottom', fontsize=10)\n",
    "\n",
    "ax.set_xticks(np.arange(len(unique_bins))+1) \n",
    "ax.set_xticklabels(unique_bins)\n",
    "# Show plot\n",
    "plt.tight_layout()\n",
    "plt.show()"
   ]
  },
  {
   "cell_type": "code",
   "execution_count": 19,
   "metadata": {},
   "outputs": [
    {
     "data": {
      "text/plain": [
       "0.957409440175631"
      ]
     },
     "execution_count": 19,
     "metadata": {},
     "output_type": "execute_result"
    }
   ],
   "source": [
    "np.mean(scores)"
   ]
  },
  {
   "cell_type": "code",
   "execution_count": 20,
   "metadata": {},
   "outputs": [
    {
     "data": {
      "text/plain": [
       "0.19143798024149286"
      ]
     },
     "execution_count": 20,
     "metadata": {},
     "output_type": "execute_result"
    }
   ],
   "source": [
    "872/len(df_all_states)"
   ]
  }
 ],
 "metadata": {
  "kernelspec": {
   "display_name": "Python 3",
   "language": "python",
   "name": "python3"
  },
  "language_info": {
   "codemirror_mode": {
    "name": "ipython",
    "version": 3
   },
   "file_extension": ".py",
   "mimetype": "text/x-python",
   "name": "python",
   "nbconvert_exporter": "python",
   "pygments_lexer": "ipython3",
   "version": "3.9.4"
  }
 },
 "nbformat": 4,
 "nbformat_minor": 2
}
